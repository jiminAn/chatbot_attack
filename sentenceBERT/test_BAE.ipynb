{
 "cells": [
  {
   "cell_type": "markdown",
   "id": "52c6d97b",
   "metadata": {},
   "source": [
    "# Bert-based Adversarial Examples"
   ]
  },
  {
   "cell_type": "markdown",
   "id": "ff2fe53f",
   "metadata": {},
   "source": [
    "## 0.Settings"
   ]
  },
  {
   "cell_type": "code",
   "execution_count": null,
   "id": "a2043753",
   "metadata": {},
   "outputs": [],
   "source": [
    "!pip install sentence_transformers"
   ]
  },
  {
   "cell_type": "code",
   "execution_count": 66,
   "id": "b040af13",
   "metadata": {},
   "outputs": [],
   "source": [
    "import numpy as np\n",
    "import pandas as pd\n",
    "from numpy import dot\n",
    "from numpy.linalg import norm\n",
    "import urllib.request\n",
    "from sentence_transformers import SentenceTransformer\n",
    "import time"
   ]
  },
  {
   "cell_type": "markdown",
   "id": "86aa0114",
   "metadata": {},
   "source": [
    "###  0-1. data load & preprocessing"
   ]
  },
  {
   "cell_type": "code",
   "execution_count": 57,
   "id": "f45c4649",
   "metadata": {},
   "outputs": [
    {
     "data": {
      "text/plain": [
       "['저는 어떡하면 좋죠?',\n",
       " '내가 집에서는 전혀 존중 받지 못한다는 느낌을 받았어.',\n",
       " '너무 불안해서 양손을 꽉 잡았어.',\n",
       " '무서워서 이를 악 물었는데 얼마나 세게 물었는지 나중에는 턱이 얼얼하더라구.',\n",
       " '다 자기 일이 아니라서 모르는 거예요.']"
      ]
     },
     "execution_count": 57,
     "metadata": {},
     "output_type": "execute_result"
    }
   ],
   "source": [
    "test_data_path = \"./data/wellness.user_chatbot.16k.test.q\"\n",
    "sentences = []\n",
    "with open(test_data_path, 'rt', encoding=\"UTF8\") as f:\n",
    "    for line in f.readlines():\n",
    "        sentences.append(line.strip())\n",
    "sentences[:5]"
   ]
  },
  {
   "cell_type": "markdown",
   "id": "3f905475",
   "metadata": {},
   "source": [
    "## 0-2. load model\n",
    "- [xlm-r-100langs-bert-base-nli-stsb-mean-tokens](https://huggingface.co/sentence-transformers/xlm-r-100langs-bert-base-nli-stsb-mean-tokens)"
   ]
  },
  {
   "cell_type": "code",
   "execution_count": 13,
   "id": "797e81f6",
   "metadata": {},
   "outputs": [],
   "source": [
    "model = SentenceTransformer('sentence-transformers/xlm-r-100langs-bert-base-nli-stsb-mean-tokens')"
   ]
  },
  {
   "cell_type": "markdown",
   "id": "4eb3e386",
   "metadata": {},
   "source": [
    "## 1. Calculate Token Importance\n",
    "- $Token\\  Importance : I_i$\n",
    "- $Original\\  ith\\ sentence :  S_i$\n",
    "- $I_i = 1 - cos\\_similarity(S_i, S_i - \\{t_n\\}$)"
   ]
  },
  {
   "cell_type": "code",
   "execution_count": 60,
   "id": "6080ffa0",
   "metadata": {},
   "outputs": [],
   "source": [
    "def cos_sim(A, B):\n",
    "  return dot(A, B)/(norm(A)*norm(B))"
   ]
  },
  {
   "cell_type": "code",
   "execution_count": 65,
   "id": "94b82087",
   "metadata": {},
   "outputs": [
    {
     "data": {
      "text/plain": [
       "['너무', '불안해서', '양손을', '꽉', '잡았어.']"
      ]
     },
     "execution_count": 65,
     "metadata": {},
     "output_type": "execute_result"
    }
   ],
   "source": [
    "s2 = sentences[2]\n",
    "tokens = s2.split()\n",
    "tokens"
   ]
  },
  {
   "cell_type": "code",
   "execution_count": 48,
   "id": "0c4b3a29",
   "metadata": {},
   "outputs": [
    {
     "name": "stdout",
     "output_type": "stream",
     "text": [
      "너무 불안해서 양손을 꽉 잡았어.\t불안해서 양손을 꽉 잡았어.\t0.97398496\n",
      "너무 불안해서 양손을 꽉 잡았어.\t너무 양손을 꽉 잡았어.\t0.6588547\n",
      "너무 불안해서 양손을 꽉 잡았어.\t너무 불안해서 꽉 잡았어.\t0.86368245\n",
      "너무 불안해서 양손을 꽉 잡았어.\t너무 불안해서 양손을 잡았어.\t0.9801966\n",
      "너무 불안해서 양손을 꽉 잡았어.\t너무 불안해서 양손을 꽉\t0.4583666\n",
      "44.94779109954834\n"
     ]
    }
   ],
   "source": [
    "start = time.time()\n",
    "orig_q_emb = model.encode(test_q)\n",
    "comps = []\n",
    "for i in range(len(tokens)):\n",
    "    comp_token = tokens[0:i] + tokens[i+1:]\n",
    "    comp_q = (' ').join(comp_token)\n",
    "    comp_q_emb = model.encode(comp_q)\n",
    "    token_importance = 1 - cos_sim(orig_q_emb, comp_q_emb)\n",
    "    \n",
    "    print(test_q, comp_q, cos_similarity , sep ='\\t')\n",
    "print(time.time()-start)"
   ]
  },
  {
   "cell_type": "code",
   "execution_count": null,
   "id": "cca7131e",
   "metadata": {},
   "outputs": [],
   "source": []
  }
 ],
 "metadata": {
  "kernelspec": {
   "display_name": "Python 3 (ipykernel)",
   "language": "python",
   "name": "python3"
  },
  "language_info": {
   "codemirror_mode": {
    "name": "ipython",
    "version": 3
   },
   "file_extension": ".py",
   "mimetype": "text/x-python",
   "name": "python",
   "nbconvert_exporter": "python",
   "pygments_lexer": "ipython3",
   "version": "3.9.7"
  }
 },
 "nbformat": 4,
 "nbformat_minor": 5
}
