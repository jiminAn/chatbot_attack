{
 "cells": [
  {
   "cell_type": "markdown",
   "id": "e9724ea9",
   "metadata": {},
   "source": [
    "# Bert-based Adversarial Examples"
   ]
  },
  {
   "cell_type": "markdown",
   "id": "c825930e",
   "metadata": {},
   "source": [
    "## 0.Settings"
   ]
  },
  {
   "cell_type": "code",
   "execution_count": null,
   "id": "f3658734",
   "metadata": {},
   "outputs": [],
   "source": [
    "!pip install sentence_transformers"
   ]
  },
  {
   "cell_type": "code",
   "execution_count": 131,
   "id": "b040af13",
   "metadata": {},
   "outputs": [],
   "source": [
    "import numpy as np\n",
    "import pandas as pd\n",
    "from numpy import dot\n",
    "from numpy.linalg import norm\n",
    "import urllib.request\n",
    "from sentence_transformers import SentenceTransformer, util\n",
    "import time"
   ]
  },
  {
   "cell_type": "markdown",
   "id": "a0fee4c1",
   "metadata": {},
   "source": [
    "###  0-1. data load & preprocessing\n",
    "#### test data\n",
    "- `wellness.user_chatbot.16k.test` : user-chatbot data\n",
    "- `wellness.user_chatbot.16k.test.q` : only user column\n",
    "- `wellness.user_chatbot.16k.test.ans` : only chatbot column"
   ]
  },
  {
   "cell_type": "code",
   "execution_count": 104,
   "id": "f45c4649",
   "metadata": {},
   "outputs": [
    {
     "data": {
      "text/plain": [
       "['법대가려고 재수를 했거든.',\n",
       " '체중이 6키로나 줄었어요.',\n",
       " '잊으려고 해도 사고 때 상황이 자꾸 떠올라서 힘들어. 피투성이 사람들이 자꾸 살려달라고 하는 것만 같아.',\n",
       " '근데 점점 갈수록 저까지 힘들어지는 것 같아요.',\n",
       " '배가 부른지 어떤지도 모르겠어요. 그냥 막 먹어요.']"
      ]
     },
     "execution_count": 104,
     "metadata": {},
     "output_type": "execute_result"
    }
   ],
   "source": [
    "q_data_path = \"./data/wellness.user_chatbot.16k.test.q\"\n",
    "questions = []\n",
    "with open(q_data_path, 'rt', encoding=\"UTF8\") as f:\n",
    "    for line in f.readlines():\n",
    "        questions.append(line.strip())\n",
    "questions[200:205]"
   ]
  },
  {
   "cell_type": "code",
   "execution_count": 105,
   "id": "3223d9d2",
   "metadata": {},
   "outputs": [
    {
     "data": {
      "text/plain": [
       "['그렇군요. 여러 번 도전하는 모습이 멋져요.',\n",
       " '너무 살이 빠져도 건강에는 좋지 않답니다.',\n",
       " '그 생각이 계속 떠오를 때마다 제가 힘이 되어드릴 수 있다는 것도 기억해주세요.',\n",
       " '많이 힘들어 보여요. 힘든 일이 있으면 저에게 털어놓으세요.',\n",
       " '작은 습관을 들여보는 건 어떨까요? 배부르면 딱 수저를 내려놓는 걸로요!']"
      ]
     },
     "execution_count": 105,
     "metadata": {},
     "output_type": "execute_result"
    }
   ],
   "source": [
    "ans_data_path = \"./data/wellness.user_chatbot.16k.test.ans\"\n",
    "answers = []\n",
    "with open(ans_data_path, 'rt', encoding=\"UTF8\") as f:\n",
    "    for line in f.readlines():\n",
    "        answers.append(line.strip())\n",
    "answers[200:205]"
   ]
  },
  {
   "cell_type": "markdown",
   "id": "d1a9ba23",
   "metadata": {},
   "source": [
    "#### generated data by koGPT2\n",
    "- q.generate_ans : trained by `wellness.user_chatbot.16k.train`"
   ]
  },
  {
   "cell_type": "code",
   "execution_count": 106,
   "id": "23eaafe0",
   "metadata": {},
   "outputs": [
    {
     "data": {
      "text/plain": [
       "['그래요. 도전을 해야 후회가 없죠.그렇군요.공부는 정말 힘든 일인 것 같아요. 힘내세요. 파이팅입니다.',\n",
       " '건강에 이상이 있으신 건 아닌가요? 정도가 과하면 병원에 가보는 건 어떠세요?걱정이 많이 될 거 같아요. 걱정되는 그 마음 이해해요.',\n",
       " '그 생각을 잊을 만한 다른 일을 생각해 보면 어떨까요? 아예 다른 일을 해보는 거예요! 그러면 조금 더 쉽게',\n",
       " '잘 버티고 있어요. 조금 힘들더라도 조금만 기운을 내요.가슴이 답답하겠어요.너무 힘드시겠어요.저는 당신이 있어 행복한데 그런',\n",
       " '그러다 속 상하실까봐 걱정돼요. 조금만 줄여 보는 건 어떨까요?작은 습관을 들여보는 건 어떨까요! 배부르면 딱 수저를']"
      ]
     },
     "execution_count": 106,
     "metadata": {},
     "output_type": "execute_result"
    }
   ],
   "source": [
    "gen_ans_data_path = \"./data/q.generate_ans\"\n",
    "g_answers = []\n",
    "with open(gen_ans_data_path, 'rt', encoding=\"UTF8\") as f:\n",
    "    for line in f.readlines():\n",
    "        g_answers.append(line.strip())\n",
    "g_answers[200:205]"
   ]
  },
  {
   "cell_type": "markdown",
   "id": "2b2f57e2",
   "metadata": {},
   "source": [
    "## 0-2. load model\n",
    "- [xlm-r-100langs-bert-base-nli-stsb-mean-tokens](https://huggingface.co/sentence-transformers/xlm-r-100langs-bert-base-nli-stsb-mean-tokens)"
   ]
  },
  {
   "cell_type": "code",
   "execution_count": 13,
   "id": "797e81f6",
   "metadata": {},
   "outputs": [],
   "source": [
    "model = SentenceTransformer('sentence-transformers/xlm-r-100langs-bert-base-nli-stsb-mean-tokens')"
   ]
  },
  {
   "attachments": {},
   "cell_type": "markdown",
   "id": "eb79ffe0",
   "metadata": {},
   "source": [
    "## 1. Compute Token Importance\n",
    "- $sentence :  S,  S=\\{𝑡_1,\\cdots,𝑡_𝑛\\}$\n",
    "- $ith\\ token\\  importance : TI_i$\n",
    "- $TI_i = 1 - cos\\_similarity(emb(S), emb(S - \\{t_i\\}))$"
   ]
  },
  {
   "cell_type": "code",
   "execution_count": 60,
   "id": "fee3c4c0",
   "metadata": {},
   "outputs": [],
   "source": [
    "def cos_sim(A, B):\n",
    "  return dot(A, B)/(norm(A)*norm(B))"
   ]
  },
  {
   "cell_type": "code",
   "execution_count": 87,
   "id": "d7e8dfd9",
   "metadata": {
    "scrolled": true
   },
   "outputs": [
    {
     "data": {
      "text/plain": [
       "['너무', '불안해서', '양손을', '꽉', '잡았어.']"
      ]
     },
     "execution_count": 87,
     "metadata": {},
     "output_type": "execute_result"
    }
   ],
   "source": [
    "s2 = questions[2]\n",
    "tokens = s2.split()\n",
    "tokens"
   ]
  },
  {
   "cell_type": "code",
   "execution_count": 95,
   "id": "c461166e",
   "metadata": {},
   "outputs": [
    {
     "name": "stdout",
     "output_type": "stream",
     "text": [
      "불안해서 양손을 꽉 잡았어.\t0.97398496\t너무\t0.026015043258666992\n",
      "너무 양손을 꽉 잡았어.\t0.6588547\t불안해서\t0.34114527702331543\n",
      "너무 불안해서 꽉 잡았어.\t0.86368245\t양손을\t0.13631755113601685\n",
      "너무 불안해서 양손을 잡았어.\t0.9801966\t꽉\t0.019803404808044434\n",
      "너무 불안해서 양손을 꽉\t0.4583666\t잡았어.\t0.5416333973407745\n",
      "3.08747935295105\n"
     ]
    }
   ],
   "source": [
    "start = time.time()\n",
    "orig_q_emb = model.encode(s2)\n",
    "comps = []\n",
    "for i in range(len(tokens)):\n",
    "    comp_token = tokens[0:i] + tokens[i+1:]\n",
    "    comp_q = (' ').join(comp_token)\n",
    "    comp_q_emb = model.encode(comp_q)\n",
    "    cos_similarity = cos_sim(orig_q_emb, comp_q_emb)\n",
    "    token_importance = 1 - cos_similarity\n",
    "    print(comp_q, cos_similarity, tokens[i], token_importance, sep ='\\t')\n",
    "print(time.time()-start)"
   ]
  },
  {
   "cell_type": "markdown",
   "id": "f4fe36bc",
   "metadata": {},
   "source": [
    "## 2. Evaluation\n",
    "### original generation model Accuracy\n",
    "- $original\\ answer : ans$\n",
    "- $generate\\ answer : g\\_ans$\n",
    "- $cos\\_similarity(emb(ans), emb(g\\_ans)) >= \\alpha : positive(1)$\n",
    "- $cos\\_similarity(emb(ans), emb(g\\_ans)) < \\alpha : negative(0)$"
   ]
  },
  {
   "cell_type": "code",
   "execution_count": 111,
   "id": "ab75b1c5",
   "metadata": {},
   "outputs": [
    {
     "name": "stdout",
     "output_type": "stream",
     "text": [
      "0.5446250099392703\n",
      "1865.3053178787231\n"
     ]
    }
   ],
   "source": [
    "start = time.time()\n",
    "avg = 0.0\n",
    "for ans, g_ans in zip(answers,g_answers):\n",
    "    ans_emb = model.encode(ans)\n",
    "    g_ans_emb = model.encode(g_ans)\n",
    "    cos_simirality = cos_sim(ans_emb, g_ans_emb)\n",
    "    avg += cos_simirality\n",
    "print(avg/len(answers))\n",
    "print(time.time()-start)"
   ]
  },
  {
   "cell_type": "code",
   "execution_count": 114,
   "id": "da790925",
   "metadata": {},
   "outputs": [
    {
     "name": "stdout",
     "output_type": "stream",
     "text": [
      "0.6017176816421806\n"
     ]
    }
   ],
   "source": [
    "start = time.time()\n",
    "avg1 = 0.0\n",
    "for ans, g_ans in zip(answers,g_answers):\n",
    "    len_ans = len(ans)\n",
    "    ans_emb = model.encode(ans)\n",
    "    g_ans_emb = model.encode(g_ans[:len_ans])\n",
    "    cos_simirality = cos_sim(ans_emb, g_ans_emb)\n",
    "    avg1 += cos_simirality\n",
    "print(avg1/len(answers))"
   ]
  }
 ],
 "metadata": {
  "kernelspec": {
   "display_name": "Python 3 (ipykernel)",
   "language": "python",
   "name": "python3"
  },
  "language_info": {
   "codemirror_mode": {
    "name": "ipython",
    "version": 3
   },
   "file_extension": ".py",
   "mimetype": "text/x-python",
   "name": "python",
   "nbconvert_exporter": "python",
   "pygments_lexer": "ipython3",
   "version": "3.9.7"
  }
 },
 "nbformat": 4,
 "nbformat_minor": 5
}
