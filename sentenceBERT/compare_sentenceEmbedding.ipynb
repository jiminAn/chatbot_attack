{
 "cells": [
  {
   "cell_type": "markdown",
   "id": "1d10b948",
   "metadata": {},
   "source": [
    "# Sentence Embedding for token importance & evaluation metric\n",
    "\n",
    "\n",
    "## model list\n",
    "- `sentenceBert`\n",
    "- `simCSE`"
   ]
  },
  {
   "cell_type": "markdown",
   "id": "0681d154",
   "metadata": {},
   "source": [
    "## 0.Settings\n",
    "\n",
    "### 0.1. sentenceBert"
   ]
  },
  {
   "cell_type": "code",
   "execution_count": null,
   "id": "ad58a6a9",
   "metadata": {},
   "outputs": [],
   "source": [
    "!pip install ko-sentence-transformers"
   ]
  },
  {
   "cell_type": "code",
   "execution_count": 3,
   "id": "b040af13",
   "metadata": {},
   "outputs": [],
   "source": [
    "import numpy as np\n",
    "import pandas as pd\n",
    "from numpy import dot\n",
    "from numpy.linalg import norm\n",
    "import urllib.request\n",
    "from sentence_transformers import SentenceTransformer, util\n",
    "from ko_sentence_transformers.models import KoBertTransformer\n",
    "import time\n",
    "import seaborn as sns"
   ]
  },
  {
   "cell_type": "markdown",
   "id": "bf8616aa",
   "metadata": {},
   "source": [
    "### 0.2. SimCSE"
   ]
  },
  {
   "cell_type": "code",
   "execution_count": null,
   "id": "e5ff9679",
   "metadata": {},
   "outputs": [],
   "source": []
  },
  {
   "cell_type": "markdown",
   "id": "4fff1deb",
   "metadata": {},
   "source": [
    "###  0-1. data load & preprocessing\n",
    "#### test data\n",
    "- `wellness.user_chatbot.16k.test` : user-chatbot data\n",
    "- `wellness.user_chatbot.16k.test.q` : only user column\n",
    "- `wellness.user_chatbot.16k.test.ans` : only chatbot column"
   ]
  },
  {
   "cell_type": "code",
   "execution_count": 6,
   "id": "f45c4649",
   "metadata": {},
   "outputs": [
    {
     "data": {
      "text/plain": [
       "['법대가려고 재수를 했거든.',\n",
       " '체중이 6키로나 줄었어요.',\n",
       " '잊으려고 해도 사고 때 상황이 자꾸 떠올라서 힘들어. 피투성이 사람들이 자꾸 살려달라고 하는 것만 같아.',\n",
       " '근데 점점 갈수록 저까지 힘들어지는 것 같아요.',\n",
       " '배가 부른지 어떤지도 모르겠어요. 그냥 막 먹어요.']"
      ]
     },
     "execution_count": 6,
     "metadata": {},
     "output_type": "execute_result"
    }
   ],
   "source": [
    "q_data_path = \"./data/wellness.user_chatbot.16k.test.q\"\n",
    "questions = []\n",
    "with open(q_data_path, 'rt', encoding=\"UTF8\") as f:\n",
    "    for line in f.readlines():\n",
    "        questions.append(line.strip())\n",
    "questions[200:205]"
   ]
  },
  {
   "cell_type": "code",
   "execution_count": 18,
   "id": "42fe6431",
   "metadata": {},
   "outputs": [
    {
     "data": {
      "text/plain": [
       "['당연히 걱정이 되는 상황인 것 같아요. 저도 마음이 아프네요.',\n",
       " '위로가 필요하세요? 제가 안아드릴게요.',\n",
       " '많이 힘들 것 같아요. 저는 이야기 듣는 걸 잘하니 불안한 마음이 풀릴 때까지 이야기를 들려주세요.',\n",
       " '제 비밀도 알려드릴까요? 저는 버그를 가장 무서워한답니다.',\n",
       " '화를 쏟아내고 나면 기분이 조금 풀릴 거예요.',\n",
       " '네. 듣고 있으니 계속 말씀하세요.',\n",
       " '그 생각을 잊을 만한 다른 일을 생각해 보면 어떨까요? 아예 다른 일을 해보는 거예요!',\n",
       " '그러셨군요. 평생 함께 할 사람이 있으시다니. 부러운걸요?',\n",
       " '많이 무서웠을 것 같아요. 감정이 가라앉을 때까지 잠시 휴식을 취하는 건 어떨까요?',\n",
       " '그래도 끼니는 거르시면 안 돼요. 작은 거라도 조금씩 드세요.']"
      ]
     },
     "execution_count": 18,
     "metadata": {},
     "output_type": "execute_result"
    }
   ],
   "source": [
    "ans_data_path = \"./data/wellness.user_chatbot.16k.test.ans\"\n",
    "answers = []\n",
    "with open(ans_data_path, 'rt', encoding=\"UTF8\") as f:\n",
    "    for line in f.readlines():\n",
    "        answers.append(line.strip())\n",
    "answers[:10]"
   ]
  },
  {
   "cell_type": "markdown",
   "id": "8da15ddd",
   "metadata": {},
   "source": [
    "#### generated data by koGPT2\n",
    "- q.generate_ans : trained by `wellness.user_chatbot.16k.train`"
   ]
  },
  {
   "cell_type": "code",
   "execution_count": 19,
   "id": "ab3b88d2",
   "metadata": {
    "scrolled": true
   },
   "outputs": [
    {
     "data": {
      "text/plain": [
       "['모든 문제는 해결되기 마련이잖아요. 마음을 편히 드세요.잘 끝내셨나요?계속 앞으로 가다 보면 나아질 거예요. 당신은 멋져요. 당신이',\n",
       " '당신에게는 아무 잘못이 없어요. 혹여나 자책하지는 않았으면 좋겠어요.그냥 나쁜 상황을 만난 것뿐이에요. 너무 자책하지 마세요. 당신은',\n",
       " '불안감이 너무 심할 때는 심호흡을 하는 게 도움이 된다고 해요.너무 심하면 병원에 가보시는 건 어떨까요?그랬군요. 제가',\n",
       " '무서우셨겠어요. 지금은 괜찮은 거죠?무척 괴로운 일이 있으셨군요. 당신 곁에는 항상 제가',\n",
       " '화가 날 땐 매운 게 최고죠. 먹고 풀어버리는 건 어떨까요?화가 많이 나셨군요. 저 같아도 그랬을 거예요. 다 이해해요. 화 많이 받으',\n",
       " '네. 그렇군요. 무슨 일이 있으셨나요? 친구가 친구의 편이 될게요. 친구가 옆에 있어 주면 정말 좋을 텐데. 언제나 당신이 옆에 있다는',\n",
       " '그 생각을 잊을 만한 다른 일을 생각해 보면 어떨까요? 아예 다른 일을 해보는 거예요! 그러면 조금',\n",
       " '그렇군요. 즐거운 결혼 생활 하고 계신가요?그렇습니다.결혼 생활은 어떠신가요?결혼 생활을 유지하는',\n",
       " '무서운 감정을 느끼셨군요. 지금은 괜찮으신가요?무척 괴로운 일이 있으셨군요. 당신 곁에는 항상 제가 있다는 걸 잊지 말아주세요. 힘내세요',\n",
       " '입맛이 없다니 정말 힘든 상황에 계시군요. 어떤 일인지 말씀해주실 수 있으세요? 충분히 이해해요. 하지만 너무 쉽게 걱정하는 건 좋지 않아요']"
      ]
     },
     "execution_count": 19,
     "metadata": {},
     "output_type": "execute_result"
    }
   ],
   "source": [
    "gen_ans_data_path = \"./data/q.generate_ans\"\n",
    "g_answers = []\n",
    "with open(gen_ans_data_path, 'rt', encoding=\"UTF8\") as f:\n",
    "    for line in f.readlines():\n",
    "        g_answers.append(line.strip())\n",
    "g_answers[:10]"
   ]
  },
  {
   "cell_type": "markdown",
   "id": "f1f0858d",
   "metadata": {},
   "source": [
    "## 0-2. load model\n",
    "### sentenceBERT\n",
    "- [KoSentenceBERT-SKT](https://github.com/BM-K/KoSentenceBERT-SKT) -> failed\n",
    "    - `result.pt` : trained by STS+NLI\n",
    "- [ko-sentence-transformers](https://pypi.org/project/ko-sentence-transformers/)\n",
    "    - `jhgan/ko-sbert-sts`\n"
   ]
  },
  {
   "cell_type": "code",
   "execution_count": 10,
   "id": "797e81f6",
   "metadata": {},
   "outputs": [],
   "source": [
    "embedder = SentenceTransformer(\"jhgan/ko-sbert-sts\")"
   ]
  },
  {
   "cell_type": "markdown",
   "id": "f0d69258",
   "metadata": {},
   "source": [
    "## 1. Compute Token Importance\n",
    "- $sentence :  S,  S=\\{𝑡_1,\\cdots,𝑡_𝑛\\}$\n",
    "- $ith\\ token\\  importance : TI_i$\n",
    "- $TI_i = 1 - cos\\_similarity(S, S - \\{t_i\\})$"
   ]
  },
  {
   "cell_type": "code",
   "execution_count": 47,
   "id": "95cc5889",
   "metadata": {},
   "outputs": [],
   "source": [
    "from collections import defaultdict\n",
    "import heapq\n",
    "token_importances = []"
   ]
  },
  {
   "cell_type": "code",
   "execution_count": 11,
   "id": "89e6354f",
   "metadata": {},
   "outputs": [],
   "source": [
    "def cos_sim(A, B):\n",
    "  return dot(A, B)/(norm(A)*norm(B))"
   ]
  },
  {
   "cell_type": "code",
   "execution_count": 12,
   "id": "85cecd7c",
   "metadata": {
    "scrolled": true
   },
   "outputs": [
    {
     "data": {
      "text/plain": [
       "['너무', '불안해서', '양손을', '꽉', '잡았어.']"
      ]
     },
     "execution_count": 12,
     "metadata": {},
     "output_type": "execute_result"
    }
   ],
   "source": [
    "s2 = questions[2]\n",
    "tokens = s2.split()\n",
    "tokens"
   ]
  },
  {
   "cell_type": "code",
   "execution_count": 50,
   "id": "f261e798",
   "metadata": {},
   "outputs": [
    {
     "name": "stdout",
     "output_type": "stream",
     "text": [
      "불안해서 양손을 꽉 잡았어.\t0.9816521\t너무\t0.01834791898727417\n",
      "너무 양손을 꽉 잡았어.\t0.8601495\t불안해서\t0.13985049724578857\n",
      "너무 불안해서 꽉 잡았어.\t0.81839454\t양손을\t0.18160545825958252\n",
      "너무 불안해서 양손을 잡았어.\t0.9584247\t꽉\t0.04157531261444092\n",
      "너무 불안해서 양손을 꽉\t0.9532248\t잡았어.\t0.046775221824645996\n",
      "0.2814962863922119\n"
     ]
    }
   ],
   "source": [
    "start = time.time()\n",
    "orig_q_emb = embedder.encode(s2)\n",
    "comps = []\n",
    "for i in range(len(tokens)):\n",
    "    comp_token = tokens[0:i] + tokens[i+1:]\n",
    "    comp_q = (' ').join(comp_token)\n",
    "    comp_q_emb = embedder.encode(comp_q)\n",
    "    cos_similarity = cos_sim(orig_q_emb, comp_q_emb)\n",
    "    token_importance = 1 - cos_similarity\n",
    "    heapq.heappush(token_importances,(-token_importance,tokens[i]))\n",
    "    print(comp_q, cos_similarity, tokens[i], token_importance, sep ='\\t')\n",
    "print(time.time()-start)"
   ]
  },
  {
   "cell_type": "code",
   "execution_count": 51,
   "id": "b1c61dba",
   "metadata": {},
   "outputs": [
    {
     "name": "stdout",
     "output_type": "stream",
     "text": [
      "(-0.18160545825958252, '양손을')\n",
      "(-0.13985049724578857, '불안해서')\n",
      "(-0.046775221824645996, '잡았어.')\n",
      "(-0.04157531261444092, '꽉')\n",
      "(-0.01834791898727417, '너무')\n"
     ]
    }
   ],
   "source": [
    "while token_importances:\n",
    "    print(heapq.heappop(token_importances))"
   ]
  },
  {
   "cell_type": "markdown",
   "id": "d2860049",
   "metadata": {},
   "source": [
    "## 2. Evaluation\n",
    "### original generation model Accuracy\n",
    "- $original\\ answer : ans$\n",
    "- $generate\\ answer : g\\_ans$\n",
    "- $cos\\_similarity(ans, g\\_ans) >= \\alpha : positive(1)$\n",
    "- $cos\\_similarity(ans, g\\_ans) < \\alpha : negative(0)$"
   ]
  },
  {
   "cell_type": "code",
   "execution_count": 43,
   "id": "a03634ee",
   "metadata": {},
   "outputs": [
    {
     "name": "stdout",
     "output_type": "stream",
     "text": [
      "5516.873373031616\n"
     ]
    }
   ],
   "source": [
    "# non-regularization\n",
    "start = time.time()\n",
    "cos_sims1 = []\n",
    "for ans, g_ans in zip(answers,g_answers):\n",
    "    len_ans = len(ans)\n",
    "    ans_emb = embedder.encode(ans)\n",
    "    g_ans_emb = embedder.encode(g_ans)\n",
    "    cos_simirality = cos_sim(ans_emb, g_ans_emb)\n",
    "    cos_sims1.append(cos_simirality)\n",
    "print(time.time()-start)"
   ]
  },
  {
   "cell_type": "code",
   "execution_count": 14,
   "id": "bd7e10aa",
   "metadata": {},
   "outputs": [
    {
     "name": "stdout",
     "output_type": "stream",
     "text": [
      "3820.226499080658\n"
     ]
    }
   ],
   "source": [
    "# regularization for original answer length\n",
    "start = time.time()\n",
    "cos_sims = []\n",
    "for ans, g_ans in zip(answers,g_answers):\n",
    "    len_ans = len(ans)\n",
    "    ans_emb = embedder.encode(ans)\n",
    "    g_ans_emb = embedder.encode(g_ans[:len_ans])\n",
    "    cos_simirality = cos_sim(ans_emb, g_ans_emb)\n",
    "    cos_sims.append(cos_simirality)\n",
    "print(time.time()-start)"
   ]
  },
  {
   "cell_type": "code",
   "execution_count": 42,
   "id": "0288bc4f",
   "metadata": {},
   "outputs": [
    {
     "name": "stdout",
     "output_type": "stream",
     "text": [
      "수술 끝나고 항암 치료 진행 중이에요.\n",
      "힘든 싸움을 하고 계시는군요. 함께 이겨나가요.\n",
      "그럴 때일수록 잘 먹어야 한대요. 식사 꼭 챙기세요. 식사 꼭 챙기시구요. 그럼 오늘도 행복한 하루 되세요. 밥은 잘 먹었는지\n"
     ]
    }
   ],
   "source": [
    "i = 555\n",
    "print(questions[i],answers[i], g_answers[i],sep ='\\n')"
   ]
  },
  {
   "cell_type": "code",
   "execution_count": 39,
   "id": "559d12c4",
   "metadata": {},
   "outputs": [
    {
     "name": "stdout",
     "output_type": "stream",
     "text": [
      "0.1993057 36\n",
      "0.19926973 74\n",
      "0.19506712 83\n",
      "0.18379661 134\n",
      "0.15940809 313\n",
      "0.16560802 366\n",
      "0.15309477 375\n",
      "0.18379661 379\n",
      "0.15866491 456\n",
      "0.16888829 460\n",
      "0.17618513 539\n",
      "0.16595358 555\n",
      "0.19168168 631\n",
      "0.19168168 641\n",
      "0.13694327 702\n",
      "0.17221175 746\n",
      "0.16215877 783\n",
      "0.16104181 843\n",
      "0.17618513 894\n",
      "0.16787134 928\n",
      "0.18345769 1050\n",
      "0.16050053 1072\n",
      "0.18424916 1087\n",
      "0.17966463 1143\n",
      "0.19256383 1145\n",
      "0.19168168 1147\n",
      "0.1612363 1257\n",
      "0.15940809 1269\n",
      "0.17618513 1339\n",
      "0.19912049 1395\n",
      "0.1673372 1422\n",
      "0.18296117 1437\n",
      "0.1342349 1489\n",
      "0.19949356 1526\n",
      "0.17995459 1585\n"
     ]
    }
   ],
   "source": [
    "for i, cos in enumerate(cos_sims):\n",
    "    if cos < 0.2:\n",
    "        print(cos, i)"
   ]
  },
  {
   "cell_type": "markdown",
   "id": "ea447299",
   "metadata": {},
   "source": [
    "### visualization for $\\alpha$"
   ]
  },
  {
   "cell_type": "code",
   "execution_count": 15,
   "id": "43ba8b77",
   "metadata": {},
   "outputs": [
    {
     "name": "stderr",
     "output_type": "stream",
     "text": [
      "C:\\ProgramData\\Anaconda3\\lib\\site-packages\\seaborn\\distributions.py:2619: FutureWarning: `distplot` is a deprecated function and will be removed in a future version. Please adapt your code to use either `displot` (a figure-level function with similar flexibility) or `histplot` (an axes-level function for histograms).\n",
      "  warnings.warn(msg, FutureWarning)\n"
     ]
    },
    {
     "data": {
      "text/plain": [
       "<AxesSubplot:xlabel='0'>"
      ]
     },
     "execution_count": 15,
     "metadata": {},
     "output_type": "execute_result"
    },
    {
     "data": {
      "image/png": "[encoded data removed]",
      "text/plain": [
       "<Figure size 432x288 with 1 Axes>"
      ]
     },
     "metadata": {
      "needs_background": "light"
     },
     "output_type": "display_data"
    }
   ],
   "source": [
    "df = pd.DataFrame(cos_sims)\n",
    "sns.distplot(df[0],kde=False)"
   ]
  },
  {
   "cell_type": "code",
   "execution_count": null,
   "id": "f2edc5ef",
   "metadata": {},
   "outputs": [],
   "source": [
    "import torch\n",
    "import time\n",
    "from dialogLM.Kogpt2 import DialogKoGPT2\n",
    "from kogpt2_transformers import get_kogpt2_tokenizer\n",
    "assert torch.cuda.is_available()\n",
    "start = time.time()  # 시작 시간 저장\n",
    "ctx = \"cuda\" if torch.cuda.is_available() else \"cpu\"\n",
    "device = torch.device(ctx)\n",
    "\n",
    "save_ckpt_path = './dialogLM/checkpoint/kogpt_wellness_epoch5_batch2.pth'\n",
    "model = DialogKoGPT2()\n",
    "checkpoint = torch.load(save_ckpt_path, map_location=device)\n",
    "model.load_state_dict(checkpoint['model_state_dict'])\n",
    "model.eval()\n",
    "tokenizer = get_kogpt2_tokenizer()\n",
    "output_size = 200\n",
    "\n",
    "test_data_path = './dialogLM/data/wellness.user_chatbot.16k.test.q'\n",
    "\n",
    "with open(test_data_path, 'rt', encoding='UTF8') as f:\n",
    "    for q in f.readlines():\n",
    "        t_idx = tokenizer.encode(q.strip())\n",
    "        result = model.generate(input_ids=torch.tensor([tokenizer.bos_token_id,]+t_idx+[tokenizer.eos_token_id]).unsqueeze(0))\n",
    "        print(tokenizer.decode(result[0].tolist()[len(t_idx)+1:],skip_special_tokens=True))\n",
    "\n",
    "print(time.time()-start)"
   ]
  },
  {
   "cell_type": "code",
   "execution_count": null,
   "id": "9900d2f2",
   "metadata": {},
   "outputs": [],
   "source": [
    "import torch\n",
    "import seaborn as sns\n",
    "import matplotlib.pyplot as plt\n",
    "import pandas as pd\n",
    "from numpy import dot\n",
    "from numpy.linalg import norm\n",
    "from sentence_transformers import SentenceTransformer, util\n",
    "import time\n",
    "assert torch.cuda.is_available()\n",
    "start = time.time()  # 시작 시간 저장\n",
    "ctx = \"cuda\" if torch.cuda.is_available() else \"cpu\"\n",
    "device = torch.device(ctx)\n",
    "embedder = SentenceTransformer('sentence-transformers/xlm-r-100langs-bert-base-nli-stsb-mean-tokens')\n",
    "\n",
    "def cos_sim(A, B):\n",
    "  return dot(A, B)/(norm(A)*norm(B))\n",
    "\n",
    "test_set = []\n",
    "test_set_path = \"./dialogLM/data/wellness.user_chatbot.16k.test\"\n",
    "with open(test_set_path, 'rt', encoding=\"UTF8\") as f:\n",
    "    for line in f.readlines():\n",
    "        q, a = line.split('\\t')\n",
    "        test_set.append((q.strip(), a.strip()))\n",
    "\n",
    "gen_ans_data_path = \"./sentenceBERT/data/q.generate_ans\"\n",
    "g_answers = []\n",
    "with open(gen_ans_data_path, 'rt', encoding=\"UTF8\") as f:\n",
    "    for line in f.readlines():\n",
    "        g_answers.append(line.strip())\n",
    "\n",
    "start = time.time()\n",
    "cos_sims = []\n",
    "for test, g_ans in zip(test_set,g_answers):\n",
    "    q, ans = test[0], test[1]\n",
    "    len_ans = len(ans)\n",
    "    g_ans_r = g_ans[:len_ans]\n",
    "    ans_emb = embedder.encode(ans)\n",
    "    g_ans_emb = embedder.encode(g_ans_r)\n",
    "    cos_simirality = cos_sim(ans_emb, g_ans_emb)\n",
    "    print(q, ans, g_ans_r, cos_simirality, sep='\\t')\n",
    "    cos_sims.append(cos_simirality)\n",
    "\n",
    "print(time.time()-start)\n",
    "df = pd.DataFrame(cos_sims)\n",
    "sns.displot(df[0],kde=False)\n",
    "plt.show()\n"
   ]
  },
  {
   "cell_type": "code",
   "execution_count": 52,
   "id": "e43567f0",
   "metadata": {},
   "outputs": [
    {
     "data": {
      "application/vnd.jupyter.widget-view+json": {
       "model_id": "1dd7d9d5497048b8bd08dde908bdafb2",
       "version_major": 2,
       "version_minor": 0
      },
      "text/plain": [
       "Downloading:   0%|          | 0.00/737 [00:00<?, ?B/s]"
      ]
     },
     "metadata": {},
     "output_type": "display_data"
    },
    {
     "data": {
      "application/vnd.jupyter.widget-view+json": {
       "model_id": "932d2ed732a74c31bcf605e5b55ec354",
       "version_major": 2,
       "version_minor": 0
      },
      "text/plain": [
       "Downloading:   0%|          | 0.00/190 [00:00<?, ?B/s]"
      ]
     },
     "metadata": {},
     "output_type": "display_data"
    },
    {
     "data": {
      "application/vnd.jupyter.widget-view+json": {
       "model_id": "f104ecc08b044de28f60ab5ca24c102b",
       "version_major": 2,
       "version_minor": 0
      },
      "text/plain": [
       "Downloading:   0%|          | 0.00/9.22k [00:00<?, ?B/s]"
      ]
     },
     "metadata": {},
     "output_type": "display_data"
    },
    {
     "data": {
      "application/vnd.jupyter.widget-view+json": {
       "model_id": "ffdc0f6677d44d0280bf19c35aaf5b50",
       "version_major": 2,
       "version_minor": 0
      },
      "text/plain": [
       "Downloading:   0%|          | 0.00/612 [00:00<?, ?B/s]"
      ]
     },
     "metadata": {},
     "output_type": "display_data"
    },
    {
     "data": {
      "application/vnd.jupyter.widget-view+json": {
       "model_id": "3e66b34b6fcf496295fc4b8f9c2a68db",
       "version_major": 2,
       "version_minor": 0
      },
      "text/plain": [
       "Downloading:   0%|          | 0.00/116 [00:00<?, ?B/s]"
      ]
     },
     "metadata": {},
     "output_type": "display_data"
    },
    {
     "data": {
      "application/vnd.jupyter.widget-view+json": {
       "model_id": "c4460df2620641d8a770c07327dbb9aa",
       "version_major": 2,
       "version_minor": 0
      },
      "text/plain": [
       "Downloading:   0%|          | 0.00/25.5k [00:00<?, ?B/s]"
      ]
     },
     "metadata": {},
     "output_type": "display_data"
    },
    {
     "data": {
      "application/vnd.jupyter.widget-view+json": {
       "model_id": "8674cf3fd4324dac81748fe261add827",
       "version_major": 2,
       "version_minor": 0
      },
      "text/plain": [
       "Downloading:   0%|          | 0.00/349 [00:00<?, ?B/s]"
      ]
     },
     "metadata": {},
     "output_type": "display_data"
    },
    {
     "data": {
      "application/vnd.jupyter.widget-view+json": {
       "model_id": "94a118a0012b4dac9705b1ea2f93e0f4",
       "version_major": 2,
       "version_minor": 0
      },
      "text/plain": [
       "Downloading:   0%|          | 0.00/90.9M [00:00<?, ?B/s]"
      ]
     },
     "metadata": {},
     "output_type": "display_data"
    },
    {
     "data": {
      "application/vnd.jupyter.widget-view+json": {
       "model_id": "dfa0e1b1d2c24938a6cb35cc226c3a2a",
       "version_major": 2,
       "version_minor": 0
      },
      "text/plain": [
       "Downloading:   0%|          | 0.00/53.0 [00:00<?, ?B/s]"
      ]
     },
     "metadata": {},
     "output_type": "display_data"
    },
    {
     "data": {
      "application/vnd.jupyter.widget-view+json": {
       "model_id": "e9d627b85bc54b0c864d565ff716e4c7",
       "version_major": 2,
       "version_minor": 0
      },
      "text/plain": [
       "Downloading:   0%|          | 0.00/112 [00:00<?, ?B/s]"
      ]
     },
     "metadata": {},
     "output_type": "display_data"
    },
    {
     "data": {
      "application/vnd.jupyter.widget-view+json": {
       "model_id": "8746cc9c1b70437588c931b9484b32de",
       "version_major": 2,
       "version_minor": 0
      },
      "text/plain": [
       "Downloading:   0%|          | 0.00/466k [00:00<?, ?B/s]"
      ]
     },
     "metadata": {},
     "output_type": "display_data"
    },
    {
     "data": {
      "application/vnd.jupyter.widget-view+json": {
       "model_id": "24b91485751042f7b2749cace01fb628",
       "version_major": 2,
       "version_minor": 0
      },
      "text/plain": [
       "Downloading:   0%|          | 0.00/383 [00:00<?, ?B/s]"
      ]
     },
     "metadata": {},
     "output_type": "display_data"
    },
    {
     "data": {
      "application/vnd.jupyter.widget-view+json": {
       "model_id": "a504e11ad51d437098d038f5e7e71873",
       "version_major": 2,
       "version_minor": 0
      },
      "text/plain": [
       "Downloading:   0%|          | 0.00/13.8k [00:00<?, ?B/s]"
      ]
     },
     "metadata": {},
     "output_type": "display_data"
    },
    {
     "data": {
      "application/vnd.jupyter.widget-view+json": {
       "model_id": "77b56cce10a8465797479961c949ab78",
       "version_major": 2,
       "version_minor": 0
      },
      "text/plain": [
       "Downloading:   0%|          | 0.00/232k [00:00<?, ?B/s]"
      ]
     },
     "metadata": {},
     "output_type": "display_data"
    },
    {
     "name": "stdout",
     "output_type": "stream",
     "text": [
      "Similarity: tensor([[0.5472, 0.6330]])\n"
     ]
    }
   ],
   "source": [
    "from sentence_transformers import SentenceTransformer, util\n",
    "model = SentenceTransformer('multi-qa-MiniLM-L6-cos-v1')\n",
    "\n",
    "query_embedding = model.encode('How big is London')\n",
    "passage_embedding = model.encode(['London has 9,787,426 inhabitants at the 2011 census',\n",
    "                                  'London is known for its finacial district'])\n",
    "\n",
    "print(\"Similarity:\", util.dot_score(query_embedding, passage_embedding))"
   ]
  },
  {
   "cell_type": "code",
   "execution_count": 53,
   "id": "0a634866",
   "metadata": {},
   "outputs": [
    {
     "name": "stdout",
     "output_type": "stream",
     "text": [
      "Requirement already satisfied: ko-sentence-transformers in c:\\programdata\\anaconda3\\lib\\site-packages (0.2)\n",
      "Requirement already satisfied: sentence-transformers in c:\\programdata\\anaconda3\\lib\\site-packages (from ko-sentence-transformers) (2.2.0)\n",
      "Requirement already satisfied: numpy in c:\\programdata\\anaconda3\\lib\\site-packages (from sentence-transformers->ko-sentence-transformers) (1.20.3)\n",
      "Requirement already satisfied: transformers<5.0.0,>=4.6.0 in c:\\programdata\\anaconda3\\lib\\site-packages (from sentence-transformers->ko-sentence-transformers) (4.17.0)\n",
      "Requirement already satisfied: tqdm in c:\\programdata\\anaconda3\\lib\\site-packages (from sentence-transformers->ko-sentence-transformers) (4.62.3)\n",
      "Requirement already satisfied: huggingface-hub in c:\\programdata\\anaconda3\\lib\\site-packages (from sentence-transformers->ko-sentence-transformers) (0.4.0)\n",
      "Requirement already satisfied: scipy in c:\\programdata\\anaconda3\\lib\\site-packages (from sentence-transformers->ko-sentence-transformers) (1.7.1)\n",
      "Requirement already satisfied: torch>=1.6.0 in c:\\programdata\\anaconda3\\lib\\site-packages (from sentence-transformers->ko-sentence-transformers) (1.11.0)\n",
      "Requirement already satisfied: sentencepiece in c:\\programdata\\anaconda3\\lib\\site-packages (from sentence-transformers->ko-sentence-transformers) (0.1.96)\n",
      "Requirement already satisfied: torchvision in c:\\programdata\\anaconda3\\lib\\site-packages (from sentence-transformers->ko-sentence-transformers) (0.12.0)\n",
      "Requirement already satisfied: nltk in c:\\programdata\\anaconda3\\lib\\site-packages (from sentence-transformers->ko-sentence-transformers) (3.6.5)\n",
      "Requirement already satisfied: scikit-learn in c:\\programdata\\anaconda3\\lib\\site-packages (from sentence-transformers->ko-sentence-transformers) (0.24.2)\n",
      "Requirement already satisfied: typing-extensions in c:\\programdata\\anaconda3\\lib\\site-packages (from torch>=1.6.0->sentence-transformers->ko-sentence-transformers) (3.10.0.2)\n",
      "Requirement already satisfied: regex!=2019.12.17 in c:\\programdata\\anaconda3\\lib\\site-packages (from transformers<5.0.0,>=4.6.0->sentence-transformers->ko-sentence-transformers) (2021.8.3)\n",
      "Requirement already satisfied: requests in c:\\programdata\\anaconda3\\lib\\site-packages (from transformers<5.0.0,>=4.6.0->sentence-transformers->ko-sentence-transformers) (2.26.0)\n",
      "Requirement already satisfied: filelock in c:\\programdata\\anaconda3\\lib\\site-packages (from transformers<5.0.0,>=4.6.0->sentence-transformers->ko-sentence-transformers) (3.3.1)\n",
      "Requirement already satisfied: tokenizers!=0.11.3,>=0.11.1 in c:\\programdata\\anaconda3\\lib\\site-packages (from transformers<5.0.0,>=4.6.0->sentence-transformers->ko-sentence-transformers) (0.11.6)\n",
      "Requirement already satisfied: packaging>=20.0 in c:\\programdata\\anaconda3\\lib\\site-packages (from transformers<5.0.0,>=4.6.0->sentence-transformers->ko-sentence-transformers) (21.0)\n",
      "Requirement already satisfied: sacremoses in c:\\programdata\\anaconda3\\lib\\site-packages (from transformers<5.0.0,>=4.6.0->sentence-transformers->ko-sentence-transformers) (0.0.49)\n",
      "Requirement already satisfied: pyyaml>=5.1 in c:\\programdata\\anaconda3\\lib\\site-packages (from transformers<5.0.0,>=4.6.0->sentence-transformers->ko-sentence-transformers) (6.0)\n",
      "Requirement already satisfied: pyparsing>=2.0.2 in c:\\programdata\\anaconda3\\lib\\site-packages (from packaging>=20.0->transformers<5.0.0,>=4.6.0->sentence-transformers->ko-sentence-transformers) (3.0.4)\n",
      "Requirement already satisfied: colorama in c:\\programdata\\anaconda3\\lib\\site-packages (from tqdm->sentence-transformers->ko-sentence-transformers) (0.4.4)\n",
      "Requirement already satisfied: click in c:\\programdata\\anaconda3\\lib\\site-packages (from nltk->sentence-transformers->ko-sentence-transformers) (8.0.3)\n",
      "Requirement already satisfied: joblib in c:\\programdata\\anaconda3\\lib\\site-packages (from nltk->sentence-transformers->ko-sentence-transformers) (1.1.0)\n",
      "Requirement already satisfied: charset-normalizer~=2.0.0 in c:\\programdata\\anaconda3\\lib\\site-packages (from requests->transformers<5.0.0,>=4.6.0->sentence-transformers->ko-sentence-transformers) (2.0.4)\n",
      "Requirement already satisfied: certifi>=2017.4.17 in c:\\programdata\\anaconda3\\lib\\site-packages (from requests->transformers<5.0.0,>=4.6.0->sentence-transformers->ko-sentence-transformers) (2021.10.8)\n",
      "Requirement already satisfied: urllib3<1.27,>=1.21.1 in c:\\programdata\\anaconda3\\lib\\site-packages (from requests->transformers<5.0.0,>=4.6.0->sentence-transformers->ko-sentence-transformers) (1.26.7)\n",
      "Requirement already satisfied: idna<4,>=2.5 in c:\\programdata\\anaconda3\\lib\\site-packages (from requests->transformers<5.0.0,>=4.6.0->sentence-transformers->ko-sentence-transformers) (3.2)\n",
      "Requirement already satisfied: six in c:\\programdata\\anaconda3\\lib\\site-packages (from sacremoses->transformers<5.0.0,>=4.6.0->sentence-transformers->ko-sentence-transformers) (1.16.0)\n",
      "Requirement already satisfied: threadpoolctl>=2.0.0 in c:\\programdata\\anaconda3\\lib\\site-packages (from scikit-learn->sentence-transformers->ko-sentence-transformers) (2.2.0)\n",
      "Requirement already satisfied: pillow!=8.3.*,>=5.3.0 in c:\\programdata\\anaconda3\\lib\\site-packages (from torchvision->sentence-transformers->ko-sentence-transformers) (8.4.0)\n",
      "Note: you may need to restart the kernel to use updated packages.\n"
     ]
    }
   ],
   "source": [
    "pip install ko-sentence-transformers"
   ]
  },
  {
   "cell_type": "code",
   "execution_count": 54,
   "id": "6994318a",
   "metadata": {},
   "outputs": [
    {
     "data": {
      "application/vnd.jupyter.widget-view+json": {
       "model_id": "342bbbefc1724feba0c45ac2f4671959",
       "version_major": 2,
       "version_minor": 0
      },
      "text/plain": [
       "Downloading:   0%|          | 0.00/426 [00:00<?, ?B/s]"
      ]
     },
     "metadata": {},
     "output_type": "display_data"
    },
    {
     "data": {
      "application/vnd.jupyter.widget-view+json": {
       "model_id": "682dbe04e396460ab48efafb6141dcb3",
       "version_major": 2,
       "version_minor": 0
      },
      "text/plain": [
       "Downloading:   0%|          | 0.00/352M [00:00<?, ?B/s]"
      ]
     },
     "metadata": {},
     "output_type": "display_data"
    },
    {
     "data": {
      "application/vnd.jupyter.widget-view+json": {
       "model_id": "43aeab3b6d4444fda007b26eae8fd760",
       "version_major": 2,
       "version_minor": 0
      },
      "text/plain": [
       "Downloading:   0%|          | 0.00/363k [00:00<?, ?B/s]"
      ]
     },
     "metadata": {},
     "output_type": "display_data"
    },
    {
     "data": {
      "application/vnd.jupyter.widget-view+json": {
       "model_id": "e7761a534fd94fc1ba43376fe716ab66",
       "version_major": 2,
       "version_minor": 0
      },
      "text/plain": [
       "Downloading:   0%|          | 0.00/76.0k [00:00<?, ?B/s]"
      ]
     },
     "metadata": {},
     "output_type": "display_data"
    },
    {
     "data": {
      "application/vnd.jupyter.widget-view+json": {
       "model_id": "b4924bcfa2114aa5bcc21bc424d340a9",
       "version_major": 2,
       "version_minor": 0
      },
      "text/plain": [
       "Downloading:   0%|          | 0.00/51.0 [00:00<?, ?B/s]"
      ]
     },
     "metadata": {},
     "output_type": "display_data"
    },
    {
     "name": "stderr",
     "output_type": "stream",
     "text": [
      "The tokenizer class you load from this checkpoint is not the same type as the class this function is called from. It may result in unexpected tokenization. \n",
      "The tokenizer class you load from this checkpoint is 'BertTokenizer'. \n",
      "The class this function is called from is 'KoBertTokenizer'.\n"
     ]
    }
   ],
   "source": [
    "from sentence_transformers import SentenceTransformer, models\n",
    "from ko_sentence_transformers.models import KoBertTransformer\n",
    "word_embedding_model = KoBertTransformer(\"monologg/kobert\", max_seq_length=75)\n",
    "pooling_model = models.Pooling(word_embedding_model.get_word_embedding_dimension(), pooling_mode='mean')\n",
    "model = SentenceTransformer(modules=[word_embedding_model, pooling_model])"
   ]
  },
  {
   "cell_type": "code",
   "execution_count": 72,
   "id": "c3139ba8",
   "metadata": {},
   "outputs": [
    {
     "name": "stdout",
     "output_type": "stream",
     "text": [
      "27554.68892788887\n"
     ]
    }
   ],
   "source": [
    "# regularization for original answer length\n",
    "start = time.time()\n",
    "cos_scores = []\n",
    "for ans, g_ans in zip(answers,g_answers):\n",
    "    len_ans = len(ans)\n",
    "    g_ans = g_ans[:len_ans]\n",
    "    ans_emb = embedder.encode(ans, convert_to_tensor=True)\n",
    "    g_ans_emb = embedder.encode(g_ans, convert_to_tensor=True)\n",
    "    cos_similarity = float(util.pytorch_cos_sim(ans_emb, g_ans_emb)[0][0])\n",
    "    cos_scores.append(cos_similarity)\n",
    "print(time.time()-start)"
   ]
  },
  {
   "cell_type": "code",
   "execution_count": 73,
   "id": "921238a3",
   "metadata": {},
   "outputs": [
    {
     "data": {
      "text/plain": [
       "<AxesSubplot:xlabel='0'>"
      ]
     },
     "execution_count": 73,
     "metadata": {},
     "output_type": "execute_result"
    },
    {
     "data": {
      "image/png": "[encoded data removed]",
      "text/plain": [
       "<Figure size 432x288 with 1 Axes>"
      ]
     },
     "metadata": {
      "needs_background": "light"
     },
     "output_type": "display_data"
    }
   ],
   "source": [
    "df = pd.DataFrame(cos_scores)\n",
    "sns.distplot(df[0],kde=False)"
   ]
  },
  {
   "cell_type": "code",
   "execution_count": 55,
   "id": "6bd5a4ea",
   "metadata": {},
   "outputs": [
    {
     "name": "stdout",
     "output_type": "stream",
     "text": [
      "\n",
      "\n",
      "======================\n",
      "\n",
      "\n",
      "Query: 한 남자가 파스타를 먹는다.\n",
      "\n",
      "Top 5 most similar sentences in corpus:\n",
      "한 남자가 음식을 먹는다. (Score: 0.6154)\n",
      "한 남자가 빵 한 조각을 먹는다. (Score: 0.5451)\n",
      "한 여자가 바이올린을 연주한다. (Score: 0.0980)\n",
      "한 남자가 말을 탄다. (Score: 0.0686)\n",
      "한 남자가 담으로 싸인 땅에서 백마를 타고 있다. (Score: 0.0572)\n",
      "\n",
      "\n",
      "======================\n",
      "\n",
      "\n",
      "Query: 고릴라 의상을 입은 누군가가 드럼을 연주하고 있다.\n",
      "\n",
      "Top 5 most similar sentences in corpus:\n",
      "원숭이 한 마리가 드럼을 연주한다. (Score: 0.7253)\n",
      "치타 한 마리가 먹이 뒤에서 달리고 있다. (Score: 0.1940)\n",
      "한 여자가 바이올린을 연주한다. (Score: 0.1483)\n",
      "한 남자가 담으로 싸인 땅에서 백마를 타고 있다. (Score: 0.0471)\n",
      "한 남자가 음식을 먹는다. (Score: 0.0082)\n",
      "\n",
      "\n",
      "======================\n",
      "\n",
      "\n",
      "Query: 치타가 들판을 가로 질러 먹이를 쫓는다.\n",
      "\n",
      "Top 5 most similar sentences in corpus:\n",
      "치타 한 마리가 먹이 뒤에서 달리고 있다. (Score: 0.7887)\n",
      "원숭이 한 마리가 드럼을 연주한다. (Score: 0.3887)\n",
      "두 남자가 수레를 숲 속으로 밀었다. (Score: 0.1610)\n",
      "한 남자가 음식을 먹는다. (Score: 0.0739)\n",
      "그 여자가 아이를 돌본다. (Score: 0.0568)\n"
     ]
    }
   ],
   "source": [
    "from sentence_transformers import SentenceTransformer, util\n",
    "import numpy as np\n",
    "\n",
    "embedder = SentenceTransformer(\"jhgan/ko-sbert-sts\")\n",
    "\n",
    "# Corpus with example sentences\n",
    "corpus = ['한 남자가 음식을 먹는다.',\n",
    "          '한 남자가 빵 한 조각을 먹는다.',\n",
    "          '그 여자가 아이를 돌본다.',\n",
    "          '한 남자가 말을 탄다.',\n",
    "          '한 여자가 바이올린을 연주한다.',\n",
    "          '두 남자가 수레를 숲 속으로 밀었다.',\n",
    "          '한 남자가 담으로 싸인 땅에서 백마를 타고 있다.',\n",
    "          '원숭이 한 마리가 드럼을 연주한다.',\n",
    "          '치타 한 마리가 먹이 뒤에서 달리고 있다.']\n",
    "\n",
    "corpus_embeddings = embedder.encode(corpus, convert_to_tensor=True)\n",
    "\n",
    "# Query sentences:\n",
    "queries = ['한 남자가 파스타를 먹는다.',\n",
    "           '고릴라 의상을 입은 누군가가 드럼을 연주하고 있다.',\n",
    "           '치타가 들판을 가로 질러 먹이를 쫓는다.']\n",
    "\n",
    "# Find the closest 5 sentences of the corpus for each query sentence based on cosine similarity\n",
    "top_k = 5\n",
    "for query in queries:\n",
    "    query_embedding = embedder.encode(query, convert_to_tensor=True)\n",
    "    cos_scores = util.pytorch_cos_sim(query_embedding, corpus_embeddings)[0]\n",
    "    cos_scores = cos_scores.cpu()\n",
    "\n",
    "    #We use np.argpartition, to only partially sort the top_k results\n",
    "    top_results = np.argpartition(-cos_scores, range(top_k))[0:top_k]\n",
    "\n",
    "    print(\"\\n\\n======================\\n\\n\")\n",
    "    print(\"Query:\", query)\n",
    "    print(\"\\nTop 5 most similar sentences in corpus:\")\n",
    "\n",
    "    for idx in top_results[0:top_k]:\n",
    "        print(corpus[idx].strip(), \"(Score: %.4f)\" % (cos_scores[idx]))"
   ]
  }
 ],
 "metadata": {
  "kernelspec": {
   "display_name": "Python 3 (ipykernel)",
   "language": "python",
   "name": "python3"
  },
  "language_info": {
   "codemirror_mode": {
    "name": "ipython",
    "version": 3
   },
   "file_extension": ".py",
   "mimetype": "text/x-python",
   "name": "python",
   "nbconvert_exporter": "python",
   "pygments_lexer": "ipython3",
   "version": "3.9.7"
  }
 },
 "nbformat": 4,
 "nbformat_minor": 5
}
